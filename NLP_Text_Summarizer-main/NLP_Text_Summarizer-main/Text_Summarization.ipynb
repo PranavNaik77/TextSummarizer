{
 "cells": [
  {
   "cell_type": "markdown",
   "metadata": {},
   "source": [
    "# Importing Libraries"
   ]
  },
  {
   "cell_type": "code",
   "execution_count": 30,
   "metadata": {},
   "outputs": [
    {
     "name": "stderr",
     "output_type": "stream",
     "text": [
      "[nltk_data] Downloading package stopwords to\n",
      "[nltk_data]     C:\\Users\\User\\AppData\\Roaming\\nltk_data...\n",
      "[nltk_data]   Package stopwords is already up-to-date!\n"
     ]
    }
   ],
   "source": [
    "from nltk.corpus import stopwords\n",
    "from nltk.tokenize import word_tokenize, sent_tokenize\n",
    "from string import punctuation\n",
    "from nltk.stem.snowball import SnowballStemmer\n",
    "import nltk\n",
    "nltk.download('stopwords')\n",
    "import urllib.request\n",
    "from bs4 import BeautifulSoup"
   ]
  },
  {
   "cell_type": "markdown",
   "metadata": {},
   "source": [
    "# Frequency Summarizer"
   ]
  },
  {
   "cell_type": "code",
   "execution_count": 46,
   "metadata": {},
   "outputs": [],
   "source": [
    "class FreqSummarizer:\n",
    "     def __init__(self, min_cut=0.1, max_cut=0.9):\n",
    "\n",
    "          self.min_cut = min_cut\n",
    "          self.max_cut = max_cut\n",
    "          self.stopwords = set(stopwords.words(\"english\")+ list(punctuation))\n",
    "          \n",
    "     def _ComputeFrequency(self, word_sent):\n",
    "          freq = defaultdict(int)\n",
    "          for s in word_sent:\n",
    "               for word in s:\n",
    "                    if word not in self.stopwords:\n",
    "                         freq[word] +=1\n",
    "\n",
    "          # frequencies normalization and filtering\n",
    "          m = float(max(freq.values()))\n",
    "          for w in freq.keys():\n",
    "               freq[w] = freq[w]/m\n",
    "               if freq[w] >= self.max_cut or freq[w] <= self.min_cut:\n",
    "                    del freq[w]\n",
    "               return freq\n",
    "\n",
    "     def Summarize(self, text, n):\n",
    "\n",
    "          sents = sent_tokenize(text)\n",
    "          assert n <= len(sents)\n",
    "          word_sent = [word_tokenize(s.lower()) for s in sents]\n",
    "          self._freq = self._ComputeFrequency(word_sent)\n",
    "          ranking = defaultdict(int)\n",
    "          for i,sent in enumerate(word_sent):\n",
    "               for w in sent:\n",
    "                    if w in self._freq:\n",
    "                         ranking[i] += self._freq[w]\n",
    "\n",
    "          sents_idx = self._Rank(ranking,n)\n",
    "          return [sents[j] for j in sents_idx]\n",
    "\n",
    "     def _Rank(self, ranking, n):\n",
    "              return nlargest(n, ranking, key=ranking.get)"
   ]
  },
  {
   "cell_type": "markdown",
   "metadata": {},
   "source": [
    "# Text Summarizer"
   ]
  },
  {
   "cell_type": "code",
   "execution_count": 58,
   "metadata": {},
   "outputs": [],
   "source": [
    "class TextSummarizer:\n",
    "     stemmer = SnowballStemmer(\"english\")\n",
    "     stopWords = set(stopwords.words(\"english\")+ list(punctuation))\n",
    "     text = \"\"\n",
    "     sentences = \"\"\n",
    "     def TokenizeSentance(self):\n",
    "          words = word_tokenize(self.text)\n",
    "          print(words)\n",
    "          return words;\n",
    "\n",
    "     def input_text(self):\n",
    "          \n",
    "          while True:\n",
    "               self.text = input(\"Input the text to be Summarize:\\n\")\n",
    "               if(len(self.text)>10):\n",
    "                    break;\n",
    "               else:\n",
    "                    print(\"Need text of Length greater than 10\")\n",
    "\n",
    "     \n",
    "     def FrequencyCalculate(self,words):\n",
    "\n",
    "          freqTable = dict()\n",
    "          for word in words:\n",
    "               word = word.lower()\n",
    "               if word in self.stopWords:\n",
    "                    continue\n",
    "               \n",
    "               if word in freqTable:\n",
    "                    freqTable[word] += 1\n",
    "               else:\n",
    "                    freqTable[word] = 1\n",
    "          return freqTable;\n",
    "\n",
    "\n",
    "     def SentanceComputation(self,freqTable):\n",
    "          \n",
    "          self.sentences = sent_tokenize(self.text)\n",
    "          sentenceValue = dict()\n",
    "\n",
    "          for sentence in self.sentences:\n",
    "               \n",
    "               for index, wordValue in enumerate(freqTable, start=1):\n",
    "                    \n",
    "                    if wordValue in sentence.lower(): \n",
    "                         if sentence in sentenceValue:\n",
    "                              \n",
    "                              sentenceValue[sentence] += index\n",
    "                         else:\n",
    "                              sentenceValue[sentence] = index\n",
    "\n",
    "          \n",
    "          print(sentenceValue)\n",
    "          return sentenceValue;\n",
    "         \n",
    "           \n",
    "\n",
    "     def SumAverage(self,sentenceValue):\n",
    "          sumValues = 0\n",
    "          for sentence in sentenceValue:\n",
    "               \n",
    "               sumValues += sentenceValue[sentence]\n",
    "\n",
    "          average = int(sumValues / len(sentenceValue))\n",
    "\n",
    "          return average;\n",
    "\n",
    "\n",
    "     def PrintSummary(self,sentenceValue,average):\n",
    "          summary = ''\n",
    "          for sentence in self.sentences:\n",
    "               if (sentence in sentenceValue) and (sentenceValue[sentence] > (1.5 * average)):\n",
    "                    summary += \" \" + sentence\n",
    "          return summary"
   ]
  },
  {
   "cell_type": "markdown",
   "metadata": {},
   "source": [
    "# Evaluating the text and printing the Summary"
   ]
  },
  {
   "cell_type": "code",
   "execution_count": 59,
   "metadata": {},
   "outputs": [
    {
     "name": "stderr",
     "output_type": "stream",
     "text": [
      "[nltk_data] Downloading package punkt to\n",
      "[nltk_data]     C:\\Users\\User\\AppData\\Roaming\\nltk_data...\n",
      "[nltk_data]   Package punkt is already up-to-date!\n"
     ]
    },
    {
     "name": "stdout",
     "output_type": "stream",
     "text": [
      "Input the text to be Summarize:\n",
      "In an attempt to build an AI-ready workforce, Microsoft announced Intelligent Cloud Hub which has been launched to empower the next generation of students with AI-ready skills. Envisioned as a three-year collaborative program, Intelligent Cloud Hub will support around 100 institutions with AI infrastructure, course content and curriculum, developer support, development tools and give students access to cloud and AI services. As part of the program, the Redmond giant which wants to expand its reach and is planning to build a strong developer ecosystem in India with the program will set up the core AI infrastructure and IoT Hub for the selected campuses. The company will provide AI development tools and Azure AI services such as Microsoft Cognitive Services, Bot Services and Azure Machine Learning.According to Manish Prakash, Country General Manager-PS, Health and Education, Microsoft India, said, \"With AI being the defining technology of our time, it is transforming lives and industry and the jobs of tomorrow will require a different skillset. This will require more collaborations and training and working with AI. That’s why it has become more critical than ever for educational institutions to integrate new cloud and AI technologies. The program is an attempt to ramp up the institutional set-up and build capabilities among the educators to educate the workforce of tomorrow.\" The program aims to build up the cognitive skills and in-depth understanding of developing intelligent cloud connected solutions for applications across industry. Earlier in April this year, the company announced Microsoft Professional Program In AI as a learning track open to the public. The program was developed to provide job ready skills to programmers who wanted to hone their skills in AI and data science with a series of online courses which featured hands-on labs and expert instructors as well. This program also included developer-focused AI school that provided a bunch of assets to help build AI skills.\n",
      "['In', 'an', 'attempt', 'to', 'build', 'an', 'AI-ready', 'workforce', ',', 'Microsoft', 'announced', 'Intelligent', 'Cloud', 'Hub', 'which', 'has', 'been', 'launched', 'to', 'empower', 'the', 'next', 'generation', 'of', 'students', 'with', 'AI-ready', 'skills', '.', 'Envisioned', 'as', 'a', 'three-year', 'collaborative', 'program', ',', 'Intelligent', 'Cloud', 'Hub', 'will', 'support', 'around', '100', 'institutions', 'with', 'AI', 'infrastructure', ',', 'course', 'content', 'and', 'curriculum', ',', 'developer', 'support', ',', 'development', 'tools', 'and', 'give', 'students', 'access', 'to', 'cloud', 'and', 'AI', 'services', '.', 'As', 'part', 'of', 'the', 'program', ',', 'the', 'Redmond', 'giant', 'which', 'wants', 'to', 'expand', 'its', 'reach', 'and', 'is', 'planning', 'to', 'build', 'a', 'strong', 'developer', 'ecosystem', 'in', 'India', 'with', 'the', 'program', 'will', 'set', 'up', 'the', 'core', 'AI', 'infrastructure', 'and', 'IoT', 'Hub', 'for', 'the', 'selected', 'campuses', '.', 'The', 'company', 'will', 'provide', 'AI', 'development', 'tools', 'and', 'Azure', 'AI', 'services', 'such', 'as', 'Microsoft', 'Cognitive', 'Services', ',', 'Bot', 'Services', 'and', 'Azure', 'Machine', 'Learning.According', 'to', 'Manish', 'Prakash', ',', 'Country', 'General', 'Manager-PS', ',', 'Health', 'and', 'Education', ',', 'Microsoft', 'India', ',', 'said', ',', '``', 'With', 'AI', 'being', 'the', 'defining', 'technology', 'of', 'our', 'time', ',', 'it', 'is', 'transforming', 'lives', 'and', 'industry', 'and', 'the', 'jobs', 'of', 'tomorrow', 'will', 'require', 'a', 'different', 'skillset', '.', 'This', 'will', 'require', 'more', 'collaborations', 'and', 'training', 'and', 'working', 'with', 'AI', '.', 'That', '’', 's', 'why', 'it', 'has', 'become', 'more', 'critical', 'than', 'ever', 'for', 'educational', 'institutions', 'to', 'integrate', 'new', 'cloud', 'and', 'AI', 'technologies', '.', 'The', 'program', 'is', 'an', 'attempt', 'to', 'ramp', 'up', 'the', 'institutional', 'set-up', 'and', 'build', 'capabilities', 'among', 'the', 'educators', 'to', 'educate', 'the', 'workforce', 'of', 'tomorrow', '.', \"''\", 'The', 'program', 'aims', 'to', 'build', 'up', 'the', 'cognitive', 'skills', 'and', 'in-depth', 'understanding', 'of', 'developing', 'intelligent', 'cloud', 'connected', 'solutions', 'for', 'applications', 'across', 'industry', '.', 'Earlier', 'in', 'April', 'this', 'year', ',', 'the', 'company', 'announced', 'Microsoft', 'Professional', 'Program', 'In', 'AI', 'as', 'a', 'learning', 'track', 'open', 'to', 'the', 'public', '.', 'The', 'program', 'was', 'developed', 'to', 'provide', 'job', 'ready', 'skills', 'to', 'programmers', 'who', 'wanted', 'to', 'hone', 'their', 'skills', 'in', 'AI', 'and', 'data', 'science', 'with', 'a', 'series', 'of', 'online', 'courses', 'which', 'featured', 'hands-on', 'labs', 'and', 'expert', 'instructors', 'as', 'well', '.', 'This', 'program', 'also', 'included', 'developer-focused', 'AI', 'school', 'that', 'provided', 'a', 'bunch', 'of', 'assets', 'to', 'help', 'build', 'AI', 'skills', '.']\n",
      "{'In an attempt to build an AI-ready workforce, Microsoft announced Intelligent Cloud Hub which has been launched to empower the next generation of students with AI-ready skills.': 258, 'Envisioned as a three-year collaborative program, Intelligent Cloud Hub will support around 100 institutions with AI infrastructure, course content and curriculum, developer support, development tools and give students access to cloud and AI services.': 619, 'As part of the program, the Redmond giant which wants to expand its reach and is planning to build a strong developer ecosystem in India with the program will set up the core AI infrastructure and IoT Hub for the selected campuses.': 738, 'The company will provide AI development tools and Azure AI services such as Microsoft Cognitive Services, Bot Services and Azure Machine Learning.According to Manish Prakash, Country General Manager-PS, Health and Education, Microsoft India, said, \"With AI being the defining technology of our time, it is transforming lives and industry and the jobs of tomorrow will require a different skillset.': 2085, 'This will require more collaborations and training and working with AI.': 332, 'That’s why it has become more critical than ever for educational institutions to integrate new cloud and AI technologies.': 786, 'The program is an attempt to ramp up the institutional set-up and build capabilities among the educators to educate the workforce of tomorrow.\"': 781, 'The program aims to build up the cognitive skills and in-depth understanding of developing intelligent cloud connected solutions for applications across industry.': 995, 'Earlier in April this year, the company announced Microsoft Professional Program In AI as a learning track open to the public.': 964, 'The program was developed to provide job ready skills to programmers who wanted to hone their skills in AI and data science with a series of online courses which featured hands-on labs and expert instructors as well.': 2175, 'This program also included developer-focused AI school that provided a bunch of assets to help build AI skills.': 1245}\n",
      "\n",
      "\n",
      "Summary of Text:\n",
      "\n",
      "\n",
      " The company will provide AI development tools and Azure AI services such as Microsoft Cognitive Services, Bot Services and Azure Machine Learning.According to Manish Prakash, Country General Manager-PS, Health and Education, Microsoft India, said, \"With AI being the defining technology of our time, it is transforming lives and industry and the jobs of tomorrow will require a different skillset. The program was developed to provide job ready skills to programmers who wanted to hone their skills in AI and data science with a series of online courses which featured hands-on labs and expert instructors as well.\n"
     ]
    }
   ],
   "source": [
    "nltk.download('punkt')\n",
    "ts = TextSummarizer()\n",
    "ts.input_text()\n",
    "words = ts.TokenizeSentance()\n",
    "freqTable = ts.FrequencyCalculate(words)\n",
    "sentenceValue = ts.SentanceComputation(freqTable)\n",
    "avg = ts.SumAverage(sentenceValue)\n",
    "summary = ts.PrintSummary(sentenceValue,avg)\n",
    "print(\"\\n\\nSummary of Text:\\n\\n\")\n",
    "print(summary)"
   ]
  }
 ],
 "metadata": {
  "kernelspec": {
   "display_name": "Python 3",
   "language": "python",
   "name": "python3"
  },
  "language_info": {
   "codemirror_mode": {
    "name": "ipython",
    "version": 3
   },
   "file_extension": ".py",
   "mimetype": "text/x-python",
   "name": "python",
   "nbconvert_exporter": "python",
   "pygments_lexer": "ipython3",
   "version": "3.7.7"
  }
 },
 "nbformat": 4,
 "nbformat_minor": 4
}
